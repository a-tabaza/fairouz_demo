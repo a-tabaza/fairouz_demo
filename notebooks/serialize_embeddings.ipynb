{
 "cells": [
  {
   "cell_type": "code",
   "execution_count": 19,
   "metadata": {},
   "outputs": [],
   "source": [
    "from usearch.index import Index\n",
    "import numpy as np\n",
    "import json\n",
    "from tqdm import tqdm"
   ]
  },
  {
   "cell_type": "code",
   "execution_count": 11,
   "metadata": {},
   "outputs": [],
   "source": [
    "tracks = json.load(open(r'data\\tracks.json'))"
   ]
  },
  {
   "cell_type": "code",
   "execution_count": 12,
   "metadata": {},
   "outputs": [],
   "source": [
    "tracks_ids = list(tracks.keys())"
   ]
  },
  {
   "cell_type": "code",
   "execution_count": 13,
   "metadata": {},
   "outputs": [],
   "source": [
    "track_ids_mapping = {track_id: i for i, track_id in enumerate(tracks_ids)}"
   ]
  },
  {
   "cell_type": "code",
   "execution_count": 35,
   "metadata": {},
   "outputs": [],
   "source": [
    "ids_to_tracks = {i: track_id for i, track_id in enumerate(tracks_ids)}"
   ]
  },
  {
   "cell_type": "code",
   "execution_count": 36,
   "metadata": {},
   "outputs": [],
   "source": [
    "json.dump(ids_to_tracks, open(r'data\\id_to_track_mapping.json', 'w'))"
   ]
  },
  {
   "cell_type": "code",
   "execution_count": 15,
   "metadata": {},
   "outputs": [],
   "source": [
    "graph_embeddings = json.load(open(r'data\\graph_embeddings.json'))\n",
    "text_embeddings = json.load(open(r'data\\text_embeddings.json'))\n",
    "image_embeddings = json.load(open(r'data\\image_embeddings.json'))\n",
    "audio_embeddings = json.load(open(r'data\\audio_embeddings.json'))\n",
    "fairouz_embeddings = json.load(open(r'data\\fairouz_embeddings.json'))"
   ]
  },
  {
   "cell_type": "code",
   "execution_count": 34,
   "metadata": {},
   "outputs": [],
   "source": [
    "json.dump(track_ids_mapping, open(r'data\\track_ids_mapping.json', 'w'))"
   ]
  },
  {
   "cell_type": "code",
   "execution_count": 29,
   "metadata": {},
   "outputs": [],
   "source": [
    "fairouz_index = Index(ndim=128)\n",
    "fairouz_np = []\n",
    "for embedding in fairouz_embeddings:\n",
    "    key = track_ids_mapping[embedding['id']]\n",
    "    embedding = np.array(embedding['embedding'], dtype=np.float32)\n",
    "    fairouz_np.append(embedding)\n",
    "    fairouz_index.add(key, embedding)\n",
    "fairouz_np = np.array(fairouz_np, dtype=np.float32)\n",
    "np.save(r'data\\fairouz_np.npy', fairouz_np)\n",
    "fairouz_index.save(r\"data\\fairouz_index.usearch\")"
   ]
  },
  {
   "cell_type": "code",
   "execution_count": 30,
   "metadata": {},
   "outputs": [],
   "source": [
    "graph_index = Index(ndim=128)\n",
    "graph_np = []\n",
    "for embedding in graph_embeddings:\n",
    "    key = track_ids_mapping[embedding['id']]\n",
    "    embedding = np.array(embedding['embedding'], dtype=np.float32)\n",
    "    graph_np.append(embedding)\n",
    "    graph_index.add(key, embedding)\n",
    "graph_np = np.array(graph_np, dtype=np.float32)\n",
    "np.save(r'data\\graph_np.npy', graph_np)\n",
    "graph_index.save(r\"data\\graph_index.usearch\")"
   ]
  },
  {
   "cell_type": "code",
   "execution_count": 31,
   "metadata": {},
   "outputs": [],
   "source": [
    "audio_index = Index(ndim=128)\n",
    "audio_np = []\n",
    "for embedding in audio_embeddings:\n",
    "    key = track_ids_mapping[embedding['id']]\n",
    "    embedding = np.array(embedding['embedding'], dtype=np.float32)\n",
    "    audio_np.append(embedding)\n",
    "    audio_index.add(key, embedding)\n",
    "audio_np = np.array(audio_np, dtype=np.float32)\n",
    "np.save(r'data\\audio_np.npy', audio_np)\n",
    "audio_index.save(r\"data\\audio_index.usearch\")"
   ]
  },
  {
   "cell_type": "code",
   "execution_count": 32,
   "metadata": {},
   "outputs": [],
   "source": [
    "image_index = Index(ndim=512)\n",
    "image_np = []\n",
    "for embedding in image_embeddings:\n",
    "    key = track_ids_mapping[embedding['id']]\n",
    "    embedding = np.array(embedding['embedding'], dtype=np.float32)\n",
    "    image_np.append(embedding)\n",
    "    image_index.add(key, embedding)\n",
    "image_np = np.array(image_np, dtype=np.float32)\n",
    "np.save(r'data\\image_np.npy', image_np)\n",
    "image_index.save(r\"data\\image_index.usearch\")"
   ]
  },
  {
   "cell_type": "code",
   "execution_count": 33,
   "metadata": {},
   "outputs": [],
   "source": [
    "text_index = Index(ndim=1024)\n",
    "text_np = []\n",
    "for embedding in text_embeddings:\n",
    "    key = track_ids_mapping[embedding['id']]\n",
    "    embedding = np.array(embedding['embedding'], dtype=np.float32)\n",
    "    text_np.append(embedding)\n",
    "    text_index.add(key, embedding)\n",
    "text_np = np.array(text_np, dtype=np.float32)\n",
    "np.save(r'data\\text_np.npy', text_np)\n",
    "text_index.save(r\"data\\text_index.usearch\")"
   ]
  },
  {
   "cell_type": "code",
   "execution_count": null,
   "metadata": {},
   "outputs": [],
   "source": []
  }
 ],
 "metadata": {
  "kernelspec": {
   "display_name": "venv",
   "language": "python",
   "name": "python3"
  },
  "language_info": {
   "codemirror_mode": {
    "name": "ipython",
    "version": 3
   },
   "file_extension": ".py",
   "mimetype": "text/x-python",
   "name": "python",
   "nbconvert_exporter": "python",
   "pygments_lexer": "ipython3",
   "version": "3.11.3"
  }
 },
 "nbformat": 4,
 "nbformat_minor": 2
}
