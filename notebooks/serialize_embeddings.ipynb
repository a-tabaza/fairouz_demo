{
 "cells": [
  {
   "cell_type": "code",
   "execution_count": 1,
   "metadata": {},
   "outputs": [],
   "source": [
    "from usearch.index import Index\n",
    "import numpy as np\n",
    "import json\n",
    "from tqdm import tqdm\n",
    "import faiss"
   ]
  },
  {
   "cell_type": "code",
   "execution_count": 3,
   "metadata": {},
   "outputs": [],
   "source": [
    "tracks = json.load(open('../data/tracks.json'))"
   ]
  },
  {
   "cell_type": "code",
   "execution_count": 4,
   "metadata": {},
   "outputs": [],
   "source": [
    "tracks_ids = list(tracks.keys())"
   ]
  },
  {
   "cell_type": "code",
   "execution_count": 5,
   "metadata": {},
   "outputs": [],
   "source": [
    "track_ids_mapping = {track_id: i for i, track_id in enumerate(tracks_ids)}"
   ]
  },
  {
   "cell_type": "code",
   "execution_count": 6,
   "metadata": {},
   "outputs": [],
   "source": [
    "ids_to_tracks = {i: track_id for i, track_id in enumerate(tracks_ids)}"
   ]
  },
  {
   "cell_type": "code",
   "execution_count": 7,
   "metadata": {},
   "outputs": [],
   "source": [
    "json.dump(ids_to_tracks, open('../data/id_to_track_mapping.json', 'w'))"
   ]
  },
  {
   "cell_type": "code",
   "execution_count": 8,
   "metadata": {},
   "outputs": [],
   "source": [
    "graph_embeddings = json.load(open('../data/graph_embeddings.json'))\n",
    "text_embeddings = json.load(open('../data/text_embeddings.json'))\n",
    "image_embeddings = json.load(open('../data/image_embeddings.json'))\n",
    "audio_embeddings = json.load(open('../data/audio_embeddings.json'))\n",
    "fairouz_embeddings = json.load(open('../data/fairouz_embeddings.json'))"
   ]
  },
  {
   "cell_type": "code",
   "execution_count": 9,
   "metadata": {},
   "outputs": [],
   "source": [
    "json.dump(track_ids_mapping, open(r'../data/track_ids_mapping.json', 'w'))"
   ]
  },
  {
   "cell_type": "code",
   "execution_count": 10,
   "metadata": {},
   "outputs": [],
   "source": [
    "fairouz_index = faiss.IndexFlatL2(128)\n",
    "fairouz_np = []\n",
    "for embedding in fairouz_embeddings:\n",
    "    key = track_ids_mapping[embedding['id']]\n",
    "    embedding = np.array(embedding['embedding'], dtype=np.float32)\n",
    "    fairouz_np.append(embedding)\n",
    "fairouz_np = np.array(fairouz_np, dtype=np.float32)\n",
    "np.save('../data/fairouz_np.npy', fairouz_np)\n",
    "fairouz_index.add(fairouz_np)\n",
    "faiss.write_index(fairouz_index, \"../data/fairouz_index.faiss\")"
   ]
  },
  {
   "cell_type": "code",
   "execution_count": 11,
   "metadata": {},
   "outputs": [],
   "source": [
    "graph_index = faiss.IndexFlatL2(128)\n",
    "graph_np = []\n",
    "for embedding in graph_embeddings:\n",
    "    key = track_ids_mapping[embedding['id']]\n",
    "    embedding = np.array(embedding['embedding'], dtype=np.float32)\n",
    "    graph_np.append(embedding)\n",
    "    \n",
    "graph_np = np.array(graph_np, dtype=np.float32)\n",
    "np.save('../data/graph_np.npy', graph_np)\n",
    "graph_index.add(graph_np)\n",
    "faiss.write_index(graph_index, \"../data/graph_index.faiss\")"
   ]
  },
  {
   "cell_type": "code",
   "execution_count": 13,
   "metadata": {},
   "outputs": [],
   "source": [
    "audio_index = faiss.IndexFlatL2(128)\n",
    "audio_np = []\n",
    "for embedding in audio_embeddings:\n",
    "    key = track_ids_mapping[embedding['id']]\n",
    "    embedding = np.array(embedding['embedding'], dtype=np.float32)\n",
    "    audio_np.append(embedding)\n",
    "audio_np = np.array(audio_np, dtype=np.float32)\n",
    "np.save('../data/audio_np.npy', audio_np)\n",
    "audio_index.add(audio_np)\n",
    "faiss.write_index(audio_index, \"../data/audio_index.faiss\")"
   ]
  },
  {
   "cell_type": "code",
   "execution_count": 15,
   "metadata": {},
   "outputs": [],
   "source": [
    "image_index = faiss.IndexFlatL2(512)\n",
    "image_np = []\n",
    "for embedding in image_embeddings:\n",
    "    key = track_ids_mapping[embedding['id']]\n",
    "    embedding = np.array(embedding['embedding'], dtype=np.float32)\n",
    "    image_np.append(embedding)\n",
    "image_np = np.array(image_np, dtype=np.float32)\n",
    "np.save('../data/image_np.npy', image_np)\n",
    "image_index.add(image_np)\n",
    "faiss.write_index(image_index, \"../data/image_index.faiss\")"
   ]
  },
  {
   "cell_type": "code",
   "execution_count": 16,
   "metadata": {},
   "outputs": [],
   "source": [
    "text_index = faiss.IndexFlatL2(1024)\n",
    "text_np = []\n",
    "for embedding in text_embeddings:\n",
    "    key = track_ids_mapping[embedding['id']]\n",
    "    embedding = np.array(embedding['embedding'], dtype=np.float32)\n",
    "    text_np.append(embedding)\n",
    "text_np = np.array(text_np, dtype=np.float32)\n",
    "np.save(r'../data/text_np.npy', text_np)\n",
    "text_index.add(text_np)\n",
    "faiss.write_index(text_index, \"../data/text_index.faiss\")"
   ]
  },
  {
   "cell_type": "code",
   "execution_count": null,
   "metadata": {},
   "outputs": [],
   "source": []
  }
 ],
 "metadata": {
  "kernelspec": {
   "display_name": "venv",
   "language": "python",
   "name": "python3"
  },
  "language_info": {
   "codemirror_mode": {
    "name": "ipython",
    "version": 3
   },
   "file_extension": ".py",
   "mimetype": "text/x-python",
   "name": "python",
   "nbconvert_exporter": "python",
   "pygments_lexer": "ipython3",
   "version": "3.10.12"
  }
 },
 "nbformat": 4,
 "nbformat_minor": 2
}
